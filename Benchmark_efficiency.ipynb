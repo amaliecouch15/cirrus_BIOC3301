{
 "cells": [
  {
   "cell_type": "code",
   "execution_count": 16,
   "metadata": {
    "ExecuteTime": {
     "end_time": "2018-03-09T14:38:37.453534Z",
     "start_time": "2018-03-09T14:38:37.448549Z"
    }
   },
   "outputs": [],
   "source": [
    "import pandas as pd\n",
    "import matplotlib.pyplot as plt\n",
    "%matplotlib inline"
   ]
  },
  {
   "cell_type": "code",
   "execution_count": 17,
   "metadata": {
    "ExecuteTime": {
     "end_time": "2018-03-09T14:38:37.639517Z",
     "start_time": "2018-03-09T14:38:37.588318Z"
    }
   },
   "outputs": [
    {
     "data": {
      "text/html": [
       "<div>\n",
       "<style scoped>\n",
       "    .dataframe tbody tr th:only-of-type {\n",
       "        vertical-align: middle;\n",
       "    }\n",
       "\n",
       "    .dataframe tbody tr th {\n",
       "        vertical-align: top;\n",
       "    }\n",
       "\n",
       "    .dataframe thead th {\n",
       "        text-align: right;\n",
       "    }\n",
       "</style>\n",
       "<table border=\"1\" class=\"dataframe\">\n",
       "  <thead>\n",
       "    <tr style=\"text-align: right;\">\n",
       "      <th></th>\n",
       "      <th>CORES</th>\n",
       "      <th>RUN1</th>\n",
       "      <th>RUN2</th>\n",
       "      <th>RUN3</th>\n",
       "      <th>RUN4</th>\n",
       "      <th>RUN5</th>\n",
       "      <th>BEST_RUN</th>\n",
       "      <th>MEAN</th>\n",
       "      <th>EFF_BEST</th>\n",
       "      <th>EFF_MEAN</th>\n",
       "    </tr>\n",
       "  </thead>\n",
       "  <tbody>\n",
       "    <tr>\n",
       "      <th>0</th>\n",
       "      <td>1</td>\n",
       "      <td>241.40</td>\n",
       "      <td>250.90</td>\n",
       "      <td>242.50</td>\n",
       "      <td>269.38</td>\n",
       "      <td>259.08</td>\n",
       "      <td>241.40</td>\n",
       "      <td>252.65</td>\n",
       "      <td>100.00</td>\n",
       "      <td>100.00</td>\n",
       "    </tr>\n",
       "    <tr>\n",
       "      <th>1</th>\n",
       "      <td>2</td>\n",
       "      <td>137.82</td>\n",
       "      <td>145.05</td>\n",
       "      <td>137.07</td>\n",
       "      <td>162.44</td>\n",
       "      <td>149.22</td>\n",
       "      <td>137.07</td>\n",
       "      <td>146.32</td>\n",
       "      <td>88.06</td>\n",
       "      <td>86.33</td>\n",
       "    </tr>\n",
       "    <tr>\n",
       "      <th>2</th>\n",
       "      <td>4</td>\n",
       "      <td>86.65</td>\n",
       "      <td>87.78</td>\n",
       "      <td>84.65</td>\n",
       "      <td>95.36</td>\n",
       "      <td>121.99</td>\n",
       "      <td>84.65</td>\n",
       "      <td>95.29</td>\n",
       "      <td>71.29</td>\n",
       "      <td>66.28</td>\n",
       "    </tr>\n",
       "    <tr>\n",
       "      <th>3</th>\n",
       "      <td>8</td>\n",
       "      <td>59.15</td>\n",
       "      <td>57.46</td>\n",
       "      <td>57.94</td>\n",
       "      <td>65.98</td>\n",
       "      <td>65.11</td>\n",
       "      <td>57.46</td>\n",
       "      <td>61.13</td>\n",
       "      <td>52.51</td>\n",
       "      <td>51.66</td>\n",
       "    </tr>\n",
       "    <tr>\n",
       "      <th>4</th>\n",
       "      <td>16</td>\n",
       "      <td>49.91</td>\n",
       "      <td>62.44</td>\n",
       "      <td>48.75</td>\n",
       "      <td>93.18</td>\n",
       "      <td>52.55</td>\n",
       "      <td>48.75</td>\n",
       "      <td>61.37</td>\n",
       "      <td>30.95</td>\n",
       "      <td>25.73</td>\n",
       "    </tr>\n",
       "    <tr>\n",
       "      <th>5</th>\n",
       "      <td>24</td>\n",
       "      <td>56.87</td>\n",
       "      <td>56.30</td>\n",
       "      <td>48.44</td>\n",
       "      <td>41.06</td>\n",
       "      <td>41.23</td>\n",
       "      <td>41.06</td>\n",
       "      <td>48.78</td>\n",
       "      <td>24.50</td>\n",
       "      <td>21.58</td>\n",
       "    </tr>\n",
       "    <tr>\n",
       "      <th>6</th>\n",
       "      <td>32</td>\n",
       "      <td>53.43</td>\n",
       "      <td>48.87</td>\n",
       "      <td>38.92</td>\n",
       "      <td>42.15</td>\n",
       "      <td>58.72</td>\n",
       "      <td>38.92</td>\n",
       "      <td>48.42</td>\n",
       "      <td>19.38</td>\n",
       "      <td>16.31</td>\n",
       "    </tr>\n",
       "  </tbody>\n",
       "</table>\n",
       "</div>"
      ],
      "text/plain": [
       "   CORES    RUN1    RUN2    RUN3    RUN4    RUN5  BEST_RUN    MEAN  EFF_BEST  \\\n",
       "0      1  241.40  250.90  242.50  269.38  259.08    241.40  252.65    100.00   \n",
       "1      2  137.82  145.05  137.07  162.44  149.22    137.07  146.32     88.06   \n",
       "2      4   86.65   87.78   84.65   95.36  121.99     84.65   95.29     71.29   \n",
       "3      8   59.15   57.46   57.94   65.98   65.11     57.46   61.13     52.51   \n",
       "4     16   49.91   62.44   48.75   93.18   52.55     48.75   61.37     30.95   \n",
       "5     24   56.87   56.30   48.44   41.06   41.23     41.06   48.78     24.50   \n",
       "6     32   53.43   48.87   38.92   42.15   58.72     38.92   48.42     19.38   \n",
       "\n",
       "   EFF_MEAN  \n",
       "0    100.00  \n",
       "1     86.33  \n",
       "2     66.28  \n",
       "3     51.66  \n",
       "4     25.73  \n",
       "5     21.58  \n",
       "6     16.31  "
      ]
     },
     "execution_count": 17,
     "metadata": {},
     "output_type": "execute_result"
    }
   ],
   "source": [
    "df = pd.read_csv('./parallel_benchmark.csv', sep=';')\n",
    "df['BEST_RUN'] = df[['RUN1', 'RUN2', 'RUN3', 'RUN4', 'RUN5']].min(axis=1)\n",
    "df['MEAN'] = df[['RUN1', 'RUN2', 'RUN3', 'RUN4', 'RUN5']].mean(axis=1)\n",
    "df['MEAN'] = df['MEAN'].round(2)\n",
    "df['EFF_BEST'] = df[df['CORES'] == 1]['BEST_RUN'].values[0]*100/(df['CORES']*df['BEST_RUN'])\n",
    "df['EFF_BEST'] = df['EFF_BEST'].round(2)\n",
    "df['EFF_MEAN'] = df[df['CORES'] == 1]['MEAN'].values[0]*100/(df['CORES']*df['MEAN'])\n",
    "df['EFF_MEAN'] = df['EFF_MEAN'].round(2)\n",
    "\n",
    "\n",
    "df"
   ]
  },
  {
   "cell_type": "code",
   "execution_count": 18,
   "metadata": {
    "ExecuteTime": {
     "end_time": "2018-03-09T14:38:37.841885Z",
     "start_time": "2018-03-09T14:38:37.691549Z"
    },
    "scrolled": true
   },
   "outputs": [
    {
     "data": {
      "image/png": "[encoded data removed]",
      "text/plain": [
       "<matplotlib.figure.Figure at 0x7f233d324b00>"
      ]
     },
     "metadata": {},
     "output_type": "display_data"
    }
   ],
   "source": [
    "plt.xticks(df.index.values, df.CORES.values)\n",
    "best = plt.plot(df.index, df['BEST_RUN'])\n",
    "mean = plt.plot(df.index.values, df['MEAN'].values)\n",
    "plt.grid()\n",
    "plt.ylabel(\"Time (s)\")\n",
    "plt.xlabel(\"Number of cores\")\n",
    "plt.suptitle(\"Benchmarking parallel scripts\")\n",
    "plt.legend((best[0], mean[0]), ('Best', 'Mean'))\n",
    "plt.show()"
   ]
  },
  {
   "cell_type": "code",
   "execution_count": 19,
   "metadata": {
    "ExecuteTime": {
     "end_time": "2018-03-09T14:39:13.324869Z",
     "start_time": "2018-03-09T14:39:13.193497Z"
    }
   },
   "outputs": [
    {
     "name": "stdout",
     "output_type": "stream",
     "text": [
      "Benchmark_efficiency.ipynb  cirrus  parallel_benchmark.csv\r\n"
     ]
    }
   ],
   "source": [
    "!"
   ]
  },
  {
   "cell_type": "code",
   "execution_count": null,
   "metadata": {},
   "outputs": [],
   "source": []
  },
  {
   "cell_type": "code",
   "execution_count": null,
   "metadata": {},
   "outputs": [],
   "source": []
  }
 ],
 "metadata": {
  "kernelspec": {
   "display_name": "Python 3",
   "language": "python",
   "name": "python3"
  },
  "language_info": {
   "codemirror_mode": {
    "name": "ipython",
    "version": 3
   },
   "file_extension": ".py",
   "mimetype": "text/x-python",
   "name": "python",
   "nbconvert_exporter": "python",
   "pygments_lexer": "ipython3",
   "version": "3.4.6"
  },
  "varInspector": {
   "cols": {
    "lenName": 16,
    "lenType": 16,
    "lenVar": 40
   },
   "kernels_config": {
    "python": {
     "delete_cmd_postfix": "",
     "delete_cmd_prefix": "del ",
     "library": "var_list.py",
     "varRefreshCmd": "print(var_dic_list())"
    },
    "r": {
     "delete_cmd_postfix": ") ",
     "delete_cmd_prefix": "rm(",
     "library": "var_list.r",
     "varRefreshCmd": "cat(var_dic_list()) "
    }
   },
   "types_to_exclude": [
    "module",
    "function",
    "builtin_function_or_method",
    "instance",
    "_Feature"
   ],
   "window_display": false
  }
 },
 "nbformat": 4,
 "nbformat_minor": 2
}
