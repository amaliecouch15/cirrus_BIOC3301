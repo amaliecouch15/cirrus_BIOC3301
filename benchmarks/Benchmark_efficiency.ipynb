{
 "cells": [
  {
   "cell_type": "code",
   "execution_count": 8,
   "metadata": {
    "ExecuteTime": {
     "end_time": "2018-03-12T21:23:15.293722Z",
     "start_time": "2018-03-12T21:23:15.281199Z"
    }
   },
   "outputs": [],
   "source": [
    "import pandas as pd\n",
    "import matplotlib.pyplot as plt\n",
    "%matplotlib inline"
   ]
  },
  {
   "cell_type": "code",
   "execution_count": 9,
   "metadata": {
    "ExecuteTime": {
     "end_time": "2018-03-12T21:23:15.430140Z",
     "start_time": "2018-03-12T21:23:15.386953Z"
    }
   },
   "outputs": [
    {
     "data": {
      "text/html": [
       "<div>\n",
       "<style scoped>\n",
       "    .dataframe tbody tr th:only-of-type {\n",
       "        vertical-align: middle;\n",
       "    }\n",
       "\n",
       "    .dataframe tbody tr th {\n",
       "        vertical-align: top;\n",
       "    }\n",
       "\n",
       "    .dataframe thead th {\n",
       "        text-align: right;\n",
       "    }\n",
       "</style>\n",
       "<table border=\"1\" class=\"dataframe\">\n",
       "  <thead>\n",
       "    <tr style=\"text-align: right;\">\n",
       "      <th></th>\n",
       "      <th>CORES</th>\n",
       "      <th>RUN1</th>\n",
       "      <th>RUN2</th>\n",
       "      <th>RUN3</th>\n",
       "      <th>RUN4</th>\n",
       "      <th>RUN5</th>\n",
       "      <th>RUN6</th>\n",
       "      <th>RUN7</th>\n",
       "      <th>BEST_RUN</th>\n",
       "      <th>MEAN</th>\n",
       "      <th>EFF_BEST</th>\n",
       "      <th>EFF_MEAN</th>\n",
       "    </tr>\n",
       "  </thead>\n",
       "  <tbody>\n",
       "    <tr>\n",
       "      <th>0</th>\n",
       "      <td>1</td>\n",
       "      <td>241.40</td>\n",
       "      <td>250.90</td>\n",
       "      <td>242.50</td>\n",
       "      <td>269.38</td>\n",
       "      <td>259.08</td>\n",
       "      <td>268.78</td>\n",
       "      <td>243.38</td>\n",
       "      <td>241.40</td>\n",
       "      <td>253.63</td>\n",
       "      <td>100.00</td>\n",
       "      <td>100.00</td>\n",
       "    </tr>\n",
       "    <tr>\n",
       "      <th>1</th>\n",
       "      <td>2</td>\n",
       "      <td>137.82</td>\n",
       "      <td>145.05</td>\n",
       "      <td>137.07</td>\n",
       "      <td>162.44</td>\n",
       "      <td>149.22</td>\n",
       "      <td>165.89</td>\n",
       "      <td>166.29</td>\n",
       "      <td>137.07</td>\n",
       "      <td>151.97</td>\n",
       "      <td>88.06</td>\n",
       "      <td>83.45</td>\n",
       "    </tr>\n",
       "    <tr>\n",
       "      <th>2</th>\n",
       "      <td>4</td>\n",
       "      <td>86.65</td>\n",
       "      <td>87.78</td>\n",
       "      <td>84.65</td>\n",
       "      <td>95.36</td>\n",
       "      <td>121.99</td>\n",
       "      <td>110.50</td>\n",
       "      <td>112.59</td>\n",
       "      <td>84.65</td>\n",
       "      <td>99.93</td>\n",
       "      <td>71.29</td>\n",
       "      <td>63.45</td>\n",
       "    </tr>\n",
       "    <tr>\n",
       "      <th>3</th>\n",
       "      <td>8</td>\n",
       "      <td>59.15</td>\n",
       "      <td>57.46</td>\n",
       "      <td>57.94</td>\n",
       "      <td>65.98</td>\n",
       "      <td>65.11</td>\n",
       "      <td>82.52</td>\n",
       "      <td>83.40</td>\n",
       "      <td>57.46</td>\n",
       "      <td>67.37</td>\n",
       "      <td>52.51</td>\n",
       "      <td>47.06</td>\n",
       "    </tr>\n",
       "    <tr>\n",
       "      <th>4</th>\n",
       "      <td>16</td>\n",
       "      <td>49.91</td>\n",
       "      <td>62.44</td>\n",
       "      <td>48.75</td>\n",
       "      <td>93.18</td>\n",
       "      <td>52.55</td>\n",
       "      <td>44.43</td>\n",
       "      <td>69.68</td>\n",
       "      <td>44.43</td>\n",
       "      <td>60.13</td>\n",
       "      <td>33.96</td>\n",
       "      <td>26.36</td>\n",
       "    </tr>\n",
       "    <tr>\n",
       "      <th>5</th>\n",
       "      <td>24</td>\n",
       "      <td>56.87</td>\n",
       "      <td>56.30</td>\n",
       "      <td>48.44</td>\n",
       "      <td>41.06</td>\n",
       "      <td>41.23</td>\n",
       "      <td>66.40</td>\n",
       "      <td>63.65</td>\n",
       "      <td>41.06</td>\n",
       "      <td>53.42</td>\n",
       "      <td>24.50</td>\n",
       "      <td>19.78</td>\n",
       "    </tr>\n",
       "    <tr>\n",
       "      <th>6</th>\n",
       "      <td>32</td>\n",
       "      <td>53.43</td>\n",
       "      <td>48.87</td>\n",
       "      <td>38.92</td>\n",
       "      <td>42.15</td>\n",
       "      <td>58.72</td>\n",
       "      <td>68.67</td>\n",
       "      <td>61.12</td>\n",
       "      <td>38.92</td>\n",
       "      <td>53.13</td>\n",
       "      <td>19.38</td>\n",
       "      <td>14.92</td>\n",
       "    </tr>\n",
       "  </tbody>\n",
       "</table>\n",
       "</div>"
      ],
      "text/plain": [
       "   CORES    RUN1    RUN2    RUN3    RUN4    RUN5    RUN6    RUN7  BEST_RUN  \\\n",
       "0      1  241.40  250.90  242.50  269.38  259.08  268.78  243.38    241.40   \n",
       "1      2  137.82  145.05  137.07  162.44  149.22  165.89  166.29    137.07   \n",
       "2      4   86.65   87.78   84.65   95.36  121.99  110.50  112.59     84.65   \n",
       "3      8   59.15   57.46   57.94   65.98   65.11   82.52   83.40     57.46   \n",
       "4     16   49.91   62.44   48.75   93.18   52.55   44.43   69.68     44.43   \n",
       "5     24   56.87   56.30   48.44   41.06   41.23   66.40   63.65     41.06   \n",
       "6     32   53.43   48.87   38.92   42.15   58.72   68.67   61.12     38.92   \n",
       "\n",
       "     MEAN  EFF_BEST  EFF_MEAN  \n",
       "0  253.63    100.00    100.00  \n",
       "1  151.97     88.06     83.45  \n",
       "2   99.93     71.29     63.45  \n",
       "3   67.37     52.51     47.06  \n",
       "4   60.13     33.96     26.36  \n",
       "5   53.42     24.50     19.78  \n",
       "6   53.13     19.38     14.92  "
      ]
     },
     "execution_count": 9,
     "metadata": {},
     "output_type": "execute_result"
    }
   ],
   "source": [
    "df = pd.read_csv('./parallel_benchmark.csv', sep=',')\n",
    "df['BEST_RUN'] = df[['RUN1', 'RUN2', 'RUN3', 'RUN4', 'RUN5', 'RUN6', 'RUN7']].min(axis=1)\n",
    "df['MEAN'] = df[['RUN1', 'RUN2', 'RUN3', 'RUN4', 'RUN5', 'RUN6', 'RUN7']].mean(axis=1)\n",
    "df['MEAN'] = df['MEAN'].round(2)\n",
    "df['EFF_BEST'] = df[df['CORES'] == 1]['BEST_RUN'].values[0]*100/(df['CORES']*df['BEST_RUN'])\n",
    "df['EFF_BEST'] = df['EFF_BEST'].round(2)\n",
    "df['EFF_MEAN'] = df[df['CORES'] == 1]['MEAN'].values[0]*100/(df['CORES']*df['MEAN'])\n",
    "df['EFF_MEAN'] = df['EFF_MEAN'].round(2)\n",
    "\n",
    "df.to_csv('./parallel_benchmark_output.csv', sep=',')\n",
    "df"
   ]
  },
  {
   "cell_type": "code",
   "execution_count": 10,
   "metadata": {
    "ExecuteTime": {
     "end_time": "2018-03-12T21:23:15.690408Z",
     "start_time": "2018-03-12T21:23:15.510854Z"
    },
    "scrolled": true
   },
   "outputs": [
    {
     "data": {
      "image/png": "[encoded data removed]",
      "text/plain": [
       "<matplotlib.figure.Figure at 0x7f4f148d52e8>"
      ]
     },
     "metadata": {},
     "output_type": "display_data"
    }
   ],
   "source": [
    "plt.xticks(df.index.values, df.CORES.values)\n",
    "best = plt.plot(df.index, df['BEST_RUN'])\n",
    "mean = plt.plot(df.index.values, df['MEAN'].values)\n",
    "plt.grid()\n",
    "plt.ylabel(\"Time (s)\")\n",
    "plt.xlabel(\"Number of cores\")\n",
    "plt.suptitle(\"Benchmarking parallel scripts\")\n",
    "plt.legend((best[0], mean[0]), ('Best', 'Mean'))\n",
    "plt.savefig('./parallel_efficiency_plot.png', bbox='tight')\n",
    "plt.show()\n"
   ]
  },
  {
   "cell_type": "code",
   "execution_count": null,
   "metadata": {},
   "outputs": [],
   "source": []
  },
  {
   "cell_type": "code",
   "execution_count": null,
   "metadata": {},
   "outputs": [],
   "source": []
  },
  {
   "cell_type": "code",
   "execution_count": null,
   "metadata": {},
   "outputs": [],
   "source": []
  }
 ],
 "metadata": {
  "kernelspec": {
   "display_name": "Python 3",
   "language": "python",
   "name": "python3"
  },
  "language_info": {
   "codemirror_mode": {
    "name": "ipython",
    "version": 3
   },
   "file_extension": ".py",
   "mimetype": "text/x-python",
   "name": "python",
   "nbconvert_exporter": "python",
   "pygments_lexer": "ipython3",
   "version": "3.4.6"
  },
  "varInspector": {
   "cols": {
    "lenName": 16,
    "lenType": 16,
    "lenVar": 40
   },
   "kernels_config": {
    "python": {
     "delete_cmd_postfix": "",
     "delete_cmd_prefix": "del ",
     "library": "var_list.py",
     "varRefreshCmd": "print(var_dic_list())"
    },
    "r": {
     "delete_cmd_postfix": ") ",
     "delete_cmd_prefix": "rm(",
     "library": "var_list.r",
     "varRefreshCmd": "cat(var_dic_list()) "
    }
   },
   "types_to_exclude": [
    "module",
    "function",
    "builtin_function_or_method",
    "instance",
    "_Feature"
   ],
   "window_display": false
  }
 },
 "nbformat": 4,
 "nbformat_minor": 2
}
