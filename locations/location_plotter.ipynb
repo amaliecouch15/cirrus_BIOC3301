{
 "cells": [
  {
   "cell_type": "code",
   "execution_count": 62,
   "metadata": {
    "ExecuteTime": {
     "end_time": "2018-03-12T12:54:34.215537Z",
     "start_time": "2018-03-12T12:54:34.212789Z"
    }
   },
   "outputs": [],
   "source": [
    "import gmplot\n",
    "import pandas as pd"
   ]
  },
  {
   "cell_type": "code",
   "execution_count": null,
   "metadata": {
    "ExecuteTime": {
     "end_time": "2018-03-12T12:54:34.397436Z",
     "start_time": "2018-03-12T12:54:34.344Z"
    }
   },
   "outputs": [],
   "source": [
    "df = pd.read_csv('./source_data.csv')\n",
    "df[['SampleLongitude', 'SampleLatitude', 'Description']]"
   ]
  },
  {
   "cell_type": "code",
   "execution_count": null,
   "metadata": {
    "ExecuteTime": {
     "end_time": "2018-03-12T12:54:34.538106Z",
     "start_time": "2018-03-12T12:54:34.492Z"
    }
   },
   "outputs": [],
   "source": [
    "html_color_codes = {\n",
    "    'aliceblue': '#F0F8FF',\n",
    "    'antiquewhite': '#FAEBD7',\n",
    "    'aqua': '#00FFFF',\n",
    "    'aquamarine': '#7FFFD4',\n",
    "    'azure': '#F0FFFF',\n",
    "    'beige': '#F5F5DC',\n",
    "    'bisque': '#FFE4C4',\n",
    "    'black': '#000000',\n",
    "    'blanchedalmond': '#FFEBCD',\n",
    "    'blue': '#0000FF',\n",
    "    'blueviolet': '#8A2BE2',\n",
    "    'brown': '#A52A2A',\n",
    "    'burlywood': '#DEB887',\n",
    "    'cadetblue': '#5F9EA0',\n",
    "    'chartreuse': '#7FFF00',\n",
    "    'chocolate': '#D2691E',\n",
    "    'coral': '#FF7F50',\n",
    "    'cornflowerblue': '#6495ED',\n",
    "    'cornsilk': '#FFF8DC',\n",
    "    'crimson': '#DC143C',\n",
    "    'cyan': '#00FFFF',\n",
    "    'darkblue': '#00008B',\n",
    "    'darkcyan': '#008B8B',\n",
    "    'darkgoldenrod': '#B8860B',\n",
    "    'darkgray': '#A9A9A9',\n",
    "    'darkgreen': '#006400',\n",
    "    'darkkhaki': '#BDB76B',\n",
    "    'deepskyblue': '#00BFFF'}"
   ]
  },
  {
   "cell_type": "code",
   "execution_count": 63,
   "metadata": {
    "ExecuteTime": {
     "end_time": "2018-03-12T12:54:35.392761Z",
     "start_time": "2018-03-12T12:54:35.372449Z"
    }
   },
   "outputs": [],
   "source": [
    "gmap = gmplot.GoogleMapPlotter(51.544029, -0.123398, 13)\n",
    "colours = Viridis_20.hex_colors+Inferno_7.hex_colors\n",
    "for long, lat, name, color in zip(df.SampleLongitude.values, df.SampleLatitude.values, df.Description.values, html_color_codes.keys()):  \n",
    "    gmap.marker(long, lat, color=color, title=name+ \" , \" + str(long) + \" , \" + str(lat))\n",
    "gmap.draw('soil_samples_map.html')"
   ]
  },
  {
   "cell_type": "code",
   "execution_count": null,
   "metadata": {},
   "outputs": [],
   "source": []
  }
 ],
 "metadata": {
  "kernelspec": {
   "display_name": "Python 3",
   "language": "python",
   "name": "python3"
  },
  "language_info": {
   "codemirror_mode": {
    "name": "ipython",
    "version": 3
   },
   "file_extension": ".py",
   "mimetype": "text/x-python",
   "name": "python",
   "nbconvert_exporter": "python",
   "pygments_lexer": "ipython3",
   "version": "3.4.6"
  },
  "varInspector": {
   "cols": {
    "lenName": 16,
    "lenType": 16,
    "lenVar": 40
   },
   "kernels_config": {
    "python": {
     "delete_cmd_postfix": "",
     "delete_cmd_prefix": "del ",
     "library": "var_list.py",
     "varRefreshCmd": "print(var_dic_list())"
    },
    "r": {
     "delete_cmd_postfix": ") ",
     "delete_cmd_prefix": "rm(",
     "library": "var_list.r",
     "varRefreshCmd": "cat(var_dic_list()) "
    }
   },
   "types_to_exclude": [
    "module",
    "function",
    "builtin_function_or_method",
    "instance",
    "_Feature"
   ],
   "window_display": false
  }
 },
 "nbformat": 4,
 "nbformat_minor": 2
}
